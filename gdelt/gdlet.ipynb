{
 "cells": [
  {
   "cell_type": "markdown",
   "metadata": {},
   "source": [
    "## Get Data\n",
    "Mengambil data dari gdelt"
   ]
  },
  {
   "cell_type": "code",
   "execution_count": null,
   "metadata": {},
   "outputs": [],
   "source": [
    "import requests\n",
    "import lxml.html as lh\n",
    "\n",
    "gdelt_base_url = 'http://data.gdeltproject.org/events/'\n",
    "\n",
    "# get the list of all the links on the gdelt file page\n",
    "page = requests.get(gdelt_base_url+'index.html')\n",
    "doc = lh.fromstring(page.content)\n",
    "link_list = doc.xpath(\"//*/ul/li/a/@href\")\n",
    "\n",
    "# separate out those links that begin with four digits\n",
    "file_list = [x for x in link_list if str.isdigit(x[0:4])]\n",
    "print(file_list)\n",
    "\n",
    "infilecounter = 0\n",
    "outfilecounter = 0\n",
    "\n",
    "import os.path\n",
    "import urllib\n",
    "import zipfile\n",
    "import glob\n",
    "import operator\n",
    "\n",
    "local_path = 'D:/code/'\n",
    "\n",
    "fips_country_code = 'ID'\n",
    "\n",
    "for compressed_file in file_list[infilecounter:]:\n",
    "    print(compressed_file)\n",
    "\n",
    "    # if we dont have the compressed file stored locally, go get it. Keep trying if necessary.\n",
    "    while not os.path.isfile(local_path + compressed_file):\n",
    "        print('downloading, '),\n",
    "        urllib.request.urlretrieve(url=gdelt_base_url + compressed_file,\n",
    "                           filename=local_path + compressed_file)\n",
    "\n",
    "    # extract the contents of the compressed file to a temporary directory\n",
    "    print('extracting,'),\n",
    "    try:\n",
    "        z = zipfile.ZipFile(file=local_path + compressed_file, mode='r')\n",
    "        z.extractall(path=local_path + 'tmp/')\n",
    "\n",
    "        # parse each of the csv files in the working directory,\n",
    "        print('parsing,'),\n",
    "        for infile_name in glob.glob(local_path + 'tmp/*'):\n",
    "            outfile_name = local_path + 'country/' + fips_country_code + '%04i.tsv' % outfilecounter\n",
    "            # open the infile and outfile\n",
    "            with open(infile_name, mode='r',encoding='utf8') as infile, open(outfile_name, mode='w',encoding='utf8') as outfile:\n",
    "                for line in infile:\n",
    "                    # extract lines with our interest country code\n",
    "                    if fips_country_code in operator.itemgetter(51, 37, 44)(line.split('\\t')):\n",
    "                        outfile.write(line)\n",
    "                outfilecounter += 1\n",
    "\n",
    "            # delete the temporary file\n",
    "            os.remove(infile_name)\n",
    "        infilecounter += 1\n",
    "        print('done')\n",
    "    except:\n",
    "        print(\"SKIP\")\n",
    "        infilecounter += 1\n",
    "        pass"
   ]
  },
  {
   "cell_type": "markdown",
   "metadata": {},
   "source": [
    "## Memindah data dari tsv ke mysql"
   ]
  },
  {
   "cell_type": "code",
   "execution_count": null,
   "metadata": {},
   "outputs": [],
   "source": [
    "import pymysql\n",
    "import pandas as pd\n",
    "from sqlalchemy import create_engine\n",
    "\n",
    "#Menyiapkan koneksi ke mysql\n",
    "\n",
    "host = 'localhost'\n",
    "port = '3306'\n",
    "username = 'root'\n",
    "password = ''\n",
    "database = 'news'\n",
    "\n",
    "conn = pymysql.connect(\n",
    "    host=host,\n",
    "    port=int(port),\n",
    "    user=username,\n",
    "    passwd=password,\n",
    "    db=database,\n",
    "    charset='utf8mb4')\n",
    "\n",
    "#fungsi run\n",
    "def run(sql):\n",
    "    df = pd.read_sql_query(sql,conn)\n",
    "    return df\n",
    "\n",
    "#Create Connection to database\n",
    "engine = create_engine('mysql+pymysql://'+username+':'+password+'@'+host+':'+port+'/'+database)\n",
    "\n",
    "# #Membuat tabel gdelt_news berdasarkan header\n",
    "header_file = open('header.csv','r')\n",
    "data_header = header_file.read().replace('\\n','')\n",
    "header = data_header.split(',')\n",
    "\n",
    "# create_table_string = \"CREATE TABLE `gdelt_news` (\"\n",
    "# for h in header:\n",
    "#     create_table_string = create_table_string+\"`\"+h.lower()+\"` VARCHAR(255) NULL DEFAULT NULL,\"\n",
    "# create_table_string = create_table_string[:-1]+\") COLLATE='latin1_swedish_ci' ENGINE=InnoDB;\"\n",
    "# engine.execute(create_table_string)"
   ]
  },
  {
   "cell_type": "code",
   "execution_count": null,
   "metadata": {},
   "outputs": [],
   "source": [
    "#fungsi membaca file tsv dan menyimpan dalam mysql\n",
    "def read_tsv(filename):\n",
    "    file = open(filename, \"r\") \n",
    "    data = file.readlines()\n",
    "    i = 0\n",
    "    temp = ''\n",
    "    for d in data:\n",
    "        p = d.split('\\t')\n",
    "        insert_string = \"INSERT INTO gdelt_news VALUES (\"\n",
    "        for index,h in enumerate(header):\n",
    "            insert_string = insert_string +\"'\"+ p[index].replace(\"'\",\"\")+\"',\"\n",
    "        insert_string = insert_string[:-1]+\")\"\n",
    "        try:\n",
    "            engine.execute(insert_string)\n",
    "        except:\n",
    "            print(\"Error:\", insert_string)\n",
    "        \n",
    "        "
   ]
  },
  {
   "cell_type": "code",
   "execution_count": null,
   "metadata": {},
   "outputs": [],
   "source": [
    "import os\n",
    "import glob\n",
    "\n",
    "#membaca file tsv\n",
    "path = 'D:\\code/gdelt_id'\n",
    "extension = 'tsv'\n",
    "os.chdir(path)\n",
    "result = [i for i in glob.glob('*.{}'.format(extension))]\n",
    "for index,r in enumerate(result):\n",
    "    print(\"Read File\",index)\n",
    "    read_tsv(r)\n",
    "print(\"Done\")"
   ]
  },
  {
   "cell_type": "markdown",
   "metadata": {},
   "source": [
    "## Hasil data di MySQL"
   ]
  },
  {
   "cell_type": "code",
   "execution_count": null,
   "metadata": {},
   "outputs": [],
   "source": [
    "run(\"SELECT * FROM gdelt_news LIMIT 100\")"
   ]
  },
  {
   "cell_type": "markdown",
   "metadata": {},
   "source": [
    "## Second "
   ]
  },
  {
   "cell_type": "code",
   "execution_count": 3,
   "metadata": {},
   "outputs": [],
   "source": [
    "import pymysql\n",
    "import pandas as pd\n",
    "from sqlalchemy import create_engine\n",
    "\n",
    "host = 'localhost'\n",
    "port = '3306'\n",
    "username = 'root'\n",
    "password = ''\n",
    "database = 'news'\n",
    "\n",
    "# Create Connection to database\n",
    "# engine = create_engine('mysql+pymysql://'+username+\n",
    "# ':'+password+'@'+host+':'+port+'/'+database)\n",
    "\n",
    "# Note: We use pymysql instead of sqlalchemy because sqlalchemy\n",
    "# somehow don't allow the text query. Strange bug.\n",
    "conn = pymysql.connect(\n",
    "    host=host,\n",
    "    port=int(port),\n",
    "    user=username,\n",
    "    passwd=password,\n",
    "    db=database,\n",
    "    charset='utf8mb4')\n",
    "'''engine = create_engine('mysql+pymysql://root: @localhost:3306\n",
    "/news')'''\n",
    "\n",
    "def run(sql):\n",
    "    df = pd.read_sql_query(sql, conn)\n",
    "    return df"
   ]
  },
  {
   "cell_type": "code",
   "execution_count": null,
   "metadata": {},
   "outputs": [],
   "source": [
    "from os import listdir\n",
    "from os.path import isfile, join\n",
    "folder_id = 'D:/code/gdelt_id/done/'\n",
    "files = [f for f in listdir(folder_id) if isfile(join(folder_id, f))]\n",
    "print(files)"
   ]
  },
  {
   "cell_type": "code",
   "execution_count": null,
   "metadata": {},
   "outputs": [],
   "source": [
    "error = 0\n",
    "for berkas in files:\n",
    "    print('Read ' + berkas)\n",
    "    try:\n",
    "        df_satuan = pd.DataFrame()\n",
    "\n",
    "        # Important: If your ID0000.tsv contains header, you can delete the header\n",
    "        df_satuan = pd.read_csv(folder_id + berkas, sep=\"\\t\", names= header)\n",
    "        df_satuan.to_sql(name = database, con = engine,if_exists = 'append', index = False)\n",
    "    except:\n",
    "        error = error+1\n",
    "        print('Error',berkas)\n",
    "print('Total error :',error)"
   ]
  },
  {
   "cell_type": "code",
   "execution_count": null,
   "metadata": {},
   "outputs": [],
   "source": [
    "df_satuan = pd.read_csv(folder_id + \"berkas\", sep=\"\\t\", names= header)\n",
    "df_satuan.to_sql(name = database, con = engine,if_exists = 'append', index = False)"
   ]
  },
  {
   "cell_type": "markdown",
   "metadata": {},
   "source": [
    "## select by keywords"
   ]
  },
  {
   "cell_type": "code",
   "execution_count": null,
   "metadata": {},
   "outputs": [],
   "source": [
    "data = run(\"\"\"\n",
    "SELECT \n",
    "    * \n",
    "FROM \n",
    "    news\n",
    "WHERE\n",
    "    (Year >= 2009 AND Year <= 2018) And\n",
    "    (sourceurl LIKE '%criminal%' OR\n",
    "    sourceurl LIKE '%crime%' OR\n",
    "    \n",
    "    \n",
    "    sourceurl LIKE '%violence%' OR\n",
    "    sourceurl LIKE '%assault%'\n",
    "    \n",
    "    sourceurl LIKE '%murder%' OR\n",
    "    \n",
    "    sourceurl LIKE '%theft%' OR\n",
    "    sourceurl LIKE '%robbery%' OR\n",
    "    sourceurl LIKE '%stolen%' OR\n",
    "    sourceurl LIKE '%steal%' OR\n",
    "    sourceurl LIKE '%burglary%' OR\n",
    "    \n",
    "    sourceurl LIKE '%terrorist%' OR\n",
    "    \n",
    "    sourceurl LIKE '%prostitute%' OR\n",
    "    \n",
    "    sourceurl LIKE '%corrupt%' OR\n",
    "    )\n",
    "    \"\"\")"
   ]
  },
  {
   "cell_type": "code",
   "execution_count": null,
   "metadata": {},
   "outputs": [],
   "source": [
    "data.shape"
   ]
  },
  {
   "cell_type": "code",
   "execution_count": null,
   "metadata": {},
   "outputs": [],
   "source": [
    "data_dup = data.copy()\n",
    "\n",
    "# Remove duplicate data, keep the first occurences\n",
    "data = data.drop_duplicates('SOURCEURL')\n",
    "data.shape"
   ]
  },
  {
   "cell_type": "code",
   "execution_count": null,
   "metadata": {},
   "outputs": [],
   "source": [
    "data.head()"
   ]
  },
  {
   "cell_type": "code",
   "execution_count": null,
   "metadata": {},
   "outputs": [],
   "source": [
    "host = 'localhost'\n",
    "port = '3306'\n",
    "username = 'root'\n",
    "password = ''\n",
    "database = 'news'\n",
    "database_name = 'crime_news'\n",
    "engine_s = create_engine('mysql+pymysql://'+username+':'+password+'@'+host+':'\n",
    "                         +port+'/'+database)\n",
    "data.to_sql(database_name, engine_s)\n",
    "\n",
    "# Save duplicated data to 'startup_indonesia_dup' table\n",
    "database = 'news'\n",
    "database_name_dup = 'crime_news_dup'\n",
    "data_dup.to_sql(database_name_dup, engine_s)"
   ]
  },
  {
   "cell_type": "code",
   "execution_count": 128,
   "metadata": {},
   "outputs": [],
   "source": [
    "data = run(\"\"\"\n",
    "SELECT \n",
    "     CONCAT('01/',SUBSTRING( MonthYear ,5 , 2),'/',SUBSTRING( MonthYear ,1 , 4 )) as mdate,COUNT('GLOBALEVENTID') as total\n",
    "FROM \n",
    "    crime_news\n",
    "WHERE Year BETWEEN 2017 AND 2018\n",
    "GROUP BY MonthYear\n",
    "    \"\"\")"
   ]
  },
  {
   "cell_type": "code",
   "execution_count": null,
   "metadata": {},
   "outputs": [],
   "source": [
    "data = run(\"SELECT * FROM crime_news\")"
   ]
  },
  {
   "cell_type": "code",
   "execution_count": 131,
   "metadata": {},
   "outputs": [
    {
     "data": {
      "text/html": [
       "<div>\n",
       "<style scoped>\n",
       "    .dataframe tbody tr th:only-of-type {\n",
       "        vertical-align: middle;\n",
       "    }\n",
       "\n",
       "    .dataframe tbody tr th {\n",
       "        vertical-align: top;\n",
       "    }\n",
       "\n",
       "    .dataframe thead th {\n",
       "        text-align: right;\n",
       "    }\n",
       "</style>\n",
       "<table border=\"1\" class=\"dataframe\">\n",
       "  <thead>\n",
       "    <tr style=\"text-align: right;\">\n",
       "      <th></th>\n",
       "      <th>mdate</th>\n",
       "      <th>total</th>\n",
       "    </tr>\n",
       "  </thead>\n",
       "  <tbody>\n",
       "    <tr>\n",
       "      <th>0</th>\n",
       "      <td>01/01/2017</td>\n",
       "      <td>172</td>\n",
       "    </tr>\n",
       "    <tr>\n",
       "      <th>1</th>\n",
       "      <td>01/02/2017</td>\n",
       "      <td>442</td>\n",
       "    </tr>\n",
       "    <tr>\n",
       "      <th>2</th>\n",
       "      <td>01/03/2017</td>\n",
       "      <td>441</td>\n",
       "    </tr>\n",
       "    <tr>\n",
       "      <th>3</th>\n",
       "      <td>01/04/2017</td>\n",
       "      <td>203</td>\n",
       "    </tr>\n",
       "    <tr>\n",
       "      <th>4</th>\n",
       "      <td>01/05/2017</td>\n",
       "      <td>213</td>\n",
       "    </tr>\n",
       "    <tr>\n",
       "      <th>5</th>\n",
       "      <td>01/06/2017</td>\n",
       "      <td>234</td>\n",
       "    </tr>\n",
       "    <tr>\n",
       "      <th>6</th>\n",
       "      <td>01/07/2017</td>\n",
       "      <td>149</td>\n",
       "    </tr>\n",
       "    <tr>\n",
       "      <th>7</th>\n",
       "      <td>01/08/2017</td>\n",
       "      <td>146</td>\n",
       "    </tr>\n",
       "    <tr>\n",
       "      <th>8</th>\n",
       "      <td>01/09/2017</td>\n",
       "      <td>264</td>\n",
       "    </tr>\n",
       "    <tr>\n",
       "      <th>9</th>\n",
       "      <td>01/10/2017</td>\n",
       "      <td>238</td>\n",
       "    </tr>\n",
       "    <tr>\n",
       "      <th>10</th>\n",
       "      <td>01/11/2017</td>\n",
       "      <td>230</td>\n",
       "    </tr>\n",
       "    <tr>\n",
       "      <th>11</th>\n",
       "      <td>01/12/2017</td>\n",
       "      <td>150</td>\n",
       "    </tr>\n",
       "    <tr>\n",
       "      <th>12</th>\n",
       "      <td>01/01/2018</td>\n",
       "      <td>117</td>\n",
       "    </tr>\n",
       "    <tr>\n",
       "      <th>13</th>\n",
       "      <td>01/02/2018</td>\n",
       "      <td>189</td>\n",
       "    </tr>\n",
       "    <tr>\n",
       "      <th>14</th>\n",
       "      <td>01/03/2018</td>\n",
       "      <td>163</td>\n",
       "    </tr>\n",
       "    <tr>\n",
       "      <th>15</th>\n",
       "      <td>01/04/2018</td>\n",
       "      <td>145</td>\n",
       "    </tr>\n",
       "    <tr>\n",
       "      <th>16</th>\n",
       "      <td>01/05/2018</td>\n",
       "      <td>234</td>\n",
       "    </tr>\n",
       "    <tr>\n",
       "      <th>17</th>\n",
       "      <td>01/06/2018</td>\n",
       "      <td>144</td>\n",
       "    </tr>\n",
       "    <tr>\n",
       "      <th>18</th>\n",
       "      <td>01/07/2018</td>\n",
       "      <td>149</td>\n",
       "    </tr>\n",
       "    <tr>\n",
       "      <th>19</th>\n",
       "      <td>01/08/2018</td>\n",
       "      <td>140</td>\n",
       "    </tr>\n",
       "    <tr>\n",
       "      <th>20</th>\n",
       "      <td>01/09/2018</td>\n",
       "      <td>108</td>\n",
       "    </tr>\n",
       "    <tr>\n",
       "      <th>21</th>\n",
       "      <td>01/10/2018</td>\n",
       "      <td>119</td>\n",
       "    </tr>\n",
       "  </tbody>\n",
       "</table>\n",
       "</div>"
      ],
      "text/plain": [
       "         mdate  total\n",
       "0   01/01/2017    172\n",
       "1   01/02/2017    442\n",
       "2   01/03/2017    441\n",
       "3   01/04/2017    203\n",
       "4   01/05/2017    213\n",
       "5   01/06/2017    234\n",
       "6   01/07/2017    149\n",
       "7   01/08/2017    146\n",
       "8   01/09/2017    264\n",
       "9   01/10/2017    238\n",
       "10  01/11/2017    230\n",
       "11  01/12/2017    150\n",
       "12  01/01/2018    117\n",
       "13  01/02/2018    189\n",
       "14  01/03/2018    163\n",
       "15  01/04/2018    145\n",
       "16  01/05/2018    234\n",
       "17  01/06/2018    144\n",
       "18  01/07/2018    149\n",
       "19  01/08/2018    140\n",
       "20  01/09/2018    108\n",
       "21  01/10/2018    119"
      ]
     },
     "execution_count": 131,
     "metadata": {},
     "output_type": "execute_result"
    }
   ],
   "source": [
    "data"
   ]
  },
  {
   "cell_type": "code",
   "execution_count": 68,
   "metadata": {},
   "outputs": [
    {
     "ename": "AttributeError",
     "evalue": "'DataFrame' object has no attribute 'plot_date'",
     "output_type": "error",
     "traceback": [
      "\u001b[1;31m---------------------------------------------------------------------------\u001b[0m",
      "\u001b[1;31mAttributeError\u001b[0m                            Traceback (most recent call last)",
      "\u001b[1;32m<ipython-input-68-df8504d2a8d2>\u001b[0m in \u001b[0;36m<module>\u001b[1;34m()\u001b[0m\n\u001b[0;32m      8\u001b[0m \u001b[1;31m#data_selection.resample('1M').plot()\u001b[0m\u001b[1;33m\u001b[0m\u001b[1;33m\u001b[0m\u001b[0m\n\u001b[0;32m      9\u001b[0m \u001b[1;33m\u001b[0m\u001b[0m\n\u001b[1;32m---> 10\u001b[1;33m \u001b[0mdata\u001b[0m\u001b[1;33m.\u001b[0m\u001b[0mplot_date\u001b[0m\u001b[1;33m(\u001b[0m\u001b[1;33m)\u001b[0m\u001b[1;33m\u001b[0m\u001b[0m\n\u001b[0m\u001b[0;32m     11\u001b[0m \u001b[1;31m#data_selection.plot()\u001b[0m\u001b[1;33m\u001b[0m\u001b[1;33m\u001b[0m\u001b[0m\n\u001b[0;32m     12\u001b[0m \u001b[0mplt\u001b[0m\u001b[1;33m.\u001b[0m\u001b[0mshow\u001b[0m\u001b[1;33m(\u001b[0m\u001b[1;33m)\u001b[0m\u001b[1;33m\u001b[0m\u001b[0m\n",
      "\u001b[1;32mC:\\ProgramData\\Anaconda3\\lib\\site-packages\\pandas\\core\\generic.py\u001b[0m in \u001b[0;36m__getattr__\u001b[1;34m(self, name)\u001b[0m\n\u001b[0;32m   4374\u001b[0m             \u001b[1;32mif\u001b[0m \u001b[0mself\u001b[0m\u001b[1;33m.\u001b[0m\u001b[0m_info_axis\u001b[0m\u001b[1;33m.\u001b[0m\u001b[0m_can_hold_identifiers_and_holds_name\u001b[0m\u001b[1;33m(\u001b[0m\u001b[0mname\u001b[0m\u001b[1;33m)\u001b[0m\u001b[1;33m:\u001b[0m\u001b[1;33m\u001b[0m\u001b[0m\n\u001b[0;32m   4375\u001b[0m                 \u001b[1;32mreturn\u001b[0m \u001b[0mself\u001b[0m\u001b[1;33m[\u001b[0m\u001b[0mname\u001b[0m\u001b[1;33m]\u001b[0m\u001b[1;33m\u001b[0m\u001b[0m\n\u001b[1;32m-> 4376\u001b[1;33m             \u001b[1;32mreturn\u001b[0m \u001b[0mobject\u001b[0m\u001b[1;33m.\u001b[0m\u001b[0m__getattribute__\u001b[0m\u001b[1;33m(\u001b[0m\u001b[0mself\u001b[0m\u001b[1;33m,\u001b[0m \u001b[0mname\u001b[0m\u001b[1;33m)\u001b[0m\u001b[1;33m\u001b[0m\u001b[0m\n\u001b[0m\u001b[0;32m   4377\u001b[0m \u001b[1;33m\u001b[0m\u001b[0m\n\u001b[0;32m   4378\u001b[0m     \u001b[1;32mdef\u001b[0m \u001b[0m__setattr__\u001b[0m\u001b[1;33m(\u001b[0m\u001b[0mself\u001b[0m\u001b[1;33m,\u001b[0m \u001b[0mname\u001b[0m\u001b[1;33m,\u001b[0m \u001b[0mvalue\u001b[0m\u001b[1;33m)\u001b[0m\u001b[1;33m:\u001b[0m\u001b[1;33m\u001b[0m\u001b[0m\n",
      "\u001b[1;31mAttributeError\u001b[0m: 'DataFrame' object has no attribute 'plot_date'"
     ]
    }
   ],
   "source": [
    "import matplotlib.pyplot as plt\n",
    "import matplotlib.dates as dates\n",
    "from pandas import Series\n",
    "\n",
    "#data_selection['date'] = pd.to_datetime(data_selection['date'])\n",
    "#data_selection.set_index('date', inplace = True)\n",
    "\n",
    "#data_selection.resample('1M').plot()\n",
    "\n",
    "data.plot()\n",
    "#data_selection.plot()\n",
    "plt.show()\n",
    "# new_x = dates.num2date()\n",
    "\n"
   ]
  },
  {
   "cell_type": "code",
   "execution_count": 130,
   "metadata": {},
   "outputs": [
    {
     "data": {
      "image/png": "[encoded data removed]",
      "text/plain": [
       "<Figure size 1296x1080 with 1 Axes>"
      ]
     },
     "metadata": {
      "needs_background": "light"
     },
     "output_type": "display_data"
    }
   ],
   "source": [
    "import datetime as dt\n",
    "\n",
    "dates = data['mdate']\n",
    "x = [dt.datetime.strptime(d,'%d/%m/%Y').date() for d in dates]\n",
    "y = data['total']\n",
    "\n",
    "import matplotlib.pyplot as plt\n",
    "import matplotlib.dates as mdates\n",
    "\n",
    "plt.gca().xaxis.set_major_formatter(mdates.DateFormatter('%m/%Y'))\n",
    "plt.gca().xaxis.set_major_locator(mdates.MonthLocator())\n",
    "# fig=plt.figure(figsize=(18, 16), dpi= 80, facecolor='w', edgecolor='k')\n",
    "plt.rcParams['figure.figsize'] = [18, 15]\n",
    "plt.plot(x,y)\n",
    "plt.gcf().autofmt_xdate()\n",
    "plt.show()"
   ]
  },
  {
   "cell_type": "code",
   "execution_count": null,
   "metadata": {},
   "outputs": [],
   "source": []
  },
  {
   "cell_type": "code",
   "execution_count": null,
   "metadata": {},
   "outputs": [],
   "source": []
  }
 ],
 "metadata": {
  "kernelspec": {
   "display_name": "Python 3",
   "language": "python",
   "name": "python3"
  },
  "language_info": {
   "codemirror_mode": {
    "name": "ipython",
    "version": 3
   },
   "file_extension": ".py",
   "mimetype": "text/x-python",
   "name": "python",
   "nbconvert_exporter": "python",
   "pygments_lexer": "ipython3",
   "version": "3.7.0"
  }
 },
 "nbformat": 4,
 "nbformat_minor": 2
}
