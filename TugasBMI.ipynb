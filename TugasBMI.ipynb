{
 "cells": [
  {
   "cell_type": "markdown",
   "metadata": {},
   "source": [
    "## Tugas BMI"
   ]
  },
  {
   "cell_type": "code",
   "execution_count": 16,
   "metadata": {},
   "outputs": [
    {
     "name": "stdout",
     "output_type": "stream",
     "text": [
      "Weight: 57\n",
      "Height: 168\n",
      "BMI: 20.19557823129252\n",
      "Category: Normal (healthy weight)\n"
     ]
    }
   ],
   "source": [
    "weight = 57\n",
    "height = 168\n",
    "\n",
    "# BMI = weight (kg) ÷ height^2 (m^2)\n",
    "bmi = weight / (height/100)**2\n",
    "print(\"Weight:\", weight)\n",
    "print(\"Height:\", height)\n",
    "print(\"BMI:\", bmi)\n",
    "\n",
    "if(bmi < 15):\n",
    "    print(\"Category: Very severely underweight\")\n",
    "elif(bmi <= 16):\n",
    "    print(\"Category: Severely underweight\")\n",
    "elif(bmi <= 18.5):\n",
    "    print(\"Category: Underweight\")\n",
    "elif(bmi <= 25):\n",
    "    print(\"Category: Normal (healthy weight)\")\n",
    "elif(bmi <= 30):\n",
    "    print(\"Category: Overweight\")\n",
    "elif(bmi <= 35):\n",
    "    print(\"Category: Moderately obese\")\n",
    "elif(bmi <= 40):\n",
    "    print(\"Category: Severely obese\")\n",
    "elif(bmi > 40):\n",
    "    print(\"Category: Very severely obese\")"
   ]
  }
 ],
 "metadata": {
  "kernelspec": {
   "display_name": "Python 3",
   "language": "python",
   "name": "python3"
  },
  "language_info": {
   "codemirror_mode": {
    "name": "ipython",
    "version": 3
   },
   "file_extension": ".py",
   "mimetype": "text/x-python",
   "name": "python",
   "nbconvert_exporter": "python",
   "pygments_lexer": "ipython3",
   "version": "3.7.0"
  }
 },
 "nbformat": 4,
 "nbformat_minor": 2
}
